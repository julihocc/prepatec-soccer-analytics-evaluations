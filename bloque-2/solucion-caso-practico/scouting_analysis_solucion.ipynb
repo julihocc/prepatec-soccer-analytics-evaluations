{
 "cells": [
  {
   "cell_type": "markdown",
   "id": "2ab0c104",
   "metadata": {},
   "source": "# Semana 9: Análisis Básico de Jugadores de Fútbol\n\n**Lo que aprenderemos hoy:**\n- Explorar estadísticas básicas de jugadores\n- Crear gráficos simples para comparar rendimiento\n- Identificar patrones en los datos\n\n**Tiempo estimado:** 60 minutos\n\n**Contexto:** Imagina que eres analista de un equipo de fútbol y necesitas evaluar jugadores usando estadísticas básicas como goles, asistencias y partidos jugados.\n\n---\n\n## Objetivos de Aprendizaje:\n- Cargar y explorar datos de jugadores\n- Calcular estadísticas básicas por posición\n- Crear visualizaciones simples con pandas y seaborn\n- Identificar los mejores jugadores por posición"
  },
  {
   "cell_type": "code",
   "execution_count": null,
   "id": "07dffd79",
   "metadata": {},
   "outputs": [],
   "source": [
    "# Cargar los datos de jugadores\n",
    "print(\"Cargando datos de jugadores de fútbol...\")\n",
    "\n",
    "# Dataset simplificado de jugadores\n",
    "datos_jugadores = pd.read_csv(\"../datasets/jugadores_liga_juvenil.csv\")\n",
    "print(f\"Datos cargados: {len(datos_jugadores)} jugadores\")\n",
    "\n",
    "# Veamos las primeras 5 filas\n",
    "print(\"\\n¡Echemos un vistazo a nuestros datos!\")\n",
    "print(datos_jugadores.head())"
   ]
  },
  {
   "cell_type": "code",
   "execution_count": null,
   "id": "364605cd",
   "metadata": {},
   "outputs": [],
   "source": [
    "# Cargar los datos de jugadores\n",
    "print(\"Cargando datos de jugadores de fútbol...\")\n",
    "\n",
    "# Dataset simplificado de jugadores\n",
    "datos_jugadores = pd.read_csv(\"../datasets/jugadores_liga_juvenil_simple.csv\")\n",
    "print(f\"Datos cargados: {len(datos_jugadores)} jugadores\")\n",
    "\n",
    "# Veamos las primeras 5 filas\n",
    "print(\"\\n¡Echemos un vistazo a nuestros datos!\")\n",
    "print(datos_jugadores.head())"
   ]
  },
  {
   "cell_type": "markdown",
   "id": "89801a22",
   "metadata": {},
   "source": "## 1. Exploración Básica de los Datos\n\n¡Vamos a conocer mejor nuestros datos! Es importante entender qué información tenemos antes de hacer cualquier análisis."
  },
  {
   "cell_type": "code",
   "execution_count": null,
   "id": "3203d555",
   "metadata": {},
   "outputs": [],
   "source": [
    "# Información básica sobre nuestros datos\n",
    "print(\"=== INFORMACIÓN BÁSICA ===\")\n",
    "print(f\"Cantidad de jugadores: {len(datos_jugadores)}\")\n",
    "print(f\"Cantidad de columnas: {len(datos_jugadores.columns)}\")\n",
    "\n",
    "# Veamos qué columnas tenemos\n",
    "print(\"\\n¿Qué información tenemos de cada jugador?\")\n",
    "for columna in datos_jugadores.columns:\n",
    "    print(f\"  • {columna}\")\n",
    "\n",
    "# Información por posición\n",
    "print(\"\\n¿Cuántos jugadores hay por posición?\")\n",
    "jugadores_por_posicion = datos_jugadores[\"posicion\"].value_counts()\n",
    "print(jugadores_por_posicion)\n",
    "\n",
    "# Estadísticas básicas\n",
    "print(\"\\n¿Cuántos goles han marcado en promedio?\")\n",
    "promedio_goles = datos_jugadores[\"goles\"].mean()\n",
    "print(f\"Promedio de goles: {promedio_goles:.1f} goles por jugador\")\n",
    "\n",
    "print(f\"El que más goles ha marcado: {datos_jugadores['goles'].max()} goles\")\n",
    "print(f\"El que menos goles ha marcado: {datos_jugadores['goles'].min()} goles\")"
   ]
  },
  {
   "cell_type": "code",
   "execution_count": null,
   "id": "3d99cebe",
   "metadata": {},
   "outputs": [],
   "source": [
    "# Crear nuestros primeros gráficos\n",
    "print(\"¡Vamos a crear gráficos para entender mejor los datos!\")\n",
    "\n",
    "# Gráfico 1: ¿Cuántos jugadores hay por posición?\n",
    "plt.figure(figsize=(10, 6))\n",
    "sns.countplot(\n",
    "    data=datos_jugadores, x=\"posicion\", hue=\"posicion\", palette=\"viridis\", legend=False\n",
    ")\n",
    "plt.title(\"¿Cuántos jugadores tenemos por posición?\", fontsize=14, fontweight=\"bold\")\n",
    "plt.xlabel(\"Posición en el campo\")\n",
    "plt.ylabel(\"Cantidad de jugadores\")\n",
    "plt.show()\n",
    "\n",
    "print(\"¡Este gráfico nos muestra que tenemos más delanteros y mediocampistas!\")"
   ]
  },
  {
   "cell_type": "code",
   "execution_count": null,
   "id": "d7eb667c",
   "metadata": {},
   "outputs": [],
   "source": [
    "# Gráfico 2: ¿Quién marca más goles?\n",
    "plt.figure(figsize=(10, 6))\n",
    "sns.boxplot(\n",
    "    data=datos_jugadores,\n",
    "    x=\"posicion\",\n",
    "    y=\"goles\",\n",
    "    hue=\"posicion\",\n",
    "    palette=\"viridis\",\n",
    "    legend=False,\n",
    ")\n",
    "plt.title(\"¿Qué posición marca más goles?\", fontsize=14, fontweight=\"bold\")\n",
    "plt.xlabel(\"Posición en el campo\")\n",
    "plt.ylabel(\"Cantidad de goles\")\n",
    "plt.show()\n",
    "\n",
    "print(\n",
    "    \"¡Como era de esperarse, los delanteros marcan más goles que las otras posiciones!\"\n",
    ")"
   ]
  },
  {
   "cell_type": "code",
   "execution_count": null,
   "id": "e6eb6147",
   "metadata": {},
   "outputs": [],
   "source": "## 2. Análisis por Posición\n\n¡Vamos a analizar cómo se desempeña cada posición!"
  },
  {
   "cell_type": "markdown",
   "id": "4ac398e1",
   "metadata": {},
   "source": "# Calcular estadísticas básicas por posición\nprint(\"=== ESTADÍSTICAS POR POSICIÓN ===\")\n\n# Promedios por posición\nestadisticas_por_posicion = datos_jugadores.groupby('posicion').agg({\n    'goles': 'mean',\n    'asistencias': 'mean', \n    'partidos_jugados': 'mean'\n}).round(1)\n\nprint(\"Promedios por posición:\")\nprint(estadisticas_por_posicion)\n\n# ¿Quién es el mejor de cada posición?\nprint(\"\\n¿Quién es el mejor jugador de cada posición? (por goles)\")\nfor posicion in datos_jugadores['posicion'].unique():\n    jugadores_posicion = datos_jugadores[datos_jugadores['posicion'] == posicion]\n    mejor_jugador = jugadores_posicion.loc[jugadores_posicion['goles'].idxmax()]\n    print(f\"{posicion}: {mejor_jugador['nombre']} con {mejor_jugador['goles']} goles\")"
  },
  {
   "cell_type": "code",
   "execution_count": null,
   "id": "9854ec62",
   "metadata": {},
   "outputs": [],
   "source": [
    "# Gráfico 3: ¿Hay relación entre goles y asistencias?\n",
    "plt.figure(figsize=(10, 6))\n",
    "sns.scatterplot(data=datos_jugadores, x=\"goles\", y=\"asistencias\", hue=\"posicion\", s=100)\n",
    "plt.title(\n",
    "    \"¿Los jugadores que marcan goles también dan asistencias?\",\n",
    "    fontsize=12,\n",
    "    fontweight=\"bold\",\n",
    ")\n",
    "plt.xlabel(\"Cantidad de goles\")\n",
    "plt.ylabel(\"Cantidad de asistencias\")\n",
    "plt.show()\n",
    "\n",
    "print(\n",
    "    \"¡Interesante! Algunos jugadores son buenos en ambas cosas, otros se especializan en una sola.\"\n",
    ")"
   ]
  },
  {
   "cell_type": "markdown",
   "id": "ba6a4cec",
   "metadata": {},
   "source": "## 3. Los Mejores Jugadores\n\n¡Vamos a encontrar a los jugadores más destacados!"
  },
  {
   "cell_type": "code",
   "execution_count": null,
   "id": "b74f7ffa",
   "metadata": {},
   "outputs": [],
   "source": [
    "# Top 5 goleadores\n",
    "print(\"=== TOP 5 GOLEADORES ===\")\n",
    "top_goleadores = datos_jugadores.nlargest(5, \"goles\")\n",
    "for i, (idx, jugador) in enumerate(top_goleadores.iterrows(), 1):\n",
    "    print(\n",
    "        f\"{i}. {jugador['nombre']} ({jugador['posicion']}) - {jugador['goles']} goles\"\n",
    "    )\n",
    "\n",
    "print(\"\\n=== TOP 5 ASISTENTES ===\")\n",
    "top_asistentes = datos_jugadores.nlargest(5, \"asistencias\")\n",
    "for i, (idx, jugador) in enumerate(top_asistentes.iterrows(), 1):\n",
    "    print(\n",
    "        f\"{i}. {jugador['nombre']} ({jugador['posicion']}) - {jugador['asistencias']} asistencias\"\n",
    "    )"
   ]
  },
  {
   "cell_type": "markdown",
   "id": "324d49e2",
   "metadata": {},
   "source": "# Gráfico final: Los mejores goleadores\nplt.figure(figsize=(12, 6))\nsns.barplot(data=top_goleadores, x='goles', y='nombre', hue='nombre', palette='viridis', legend=False)\nplt.title('Los 5 jugadores que más goles han marcado', fontsize=14, fontweight='bold')\nplt.xlabel('Cantidad de goles')\nplt.ylabel('Jugador')\nplt.show()\n\nprint(\"¡Estos son los jugadores que más goles han marcado en la temporada!\")"
  },
  {
   "cell_type": "code",
   "execution_count": null,
   "id": "01677881",
   "metadata": {},
   "outputs": [],
   "source": [
    "# Análisis final: ¿Qué aprendimos?\n",
    "\n",
    "print(\"=== RESUMEN DE NUESTROS HALLAZGOS ===\")\n",
    "\n",
    "print(\"\\n1. ¿Qué posición marca más goles en promedio?\")\n",
    "goles_por_posicion = (\n",
    "    datos_jugadores.groupby(\"posicion\")[\"goles\"].mean().sort_values(ascending=False)\n",
    ")\n",
    "mejor_posicion = goles_por_posicion.index[0]\n",
    "promedio_mejor = goles_por_posicion.iloc[0]\n",
    "print(f\"   Respuesta: {mejor_posicion} con {promedio_mejor:.1f} goles en promedio\")\n",
    "\n",
    "print(\"\\n2. ¿Cuál es la edad promedio por posición?\")\n",
    "edad_por_posicion = datos_jugadores.groupby(\"posicion\")[\"edad\"].mean().round(1)\n",
    "for posicion, edad in edad_por_posicion.items():\n",
    "    print(f\"   {posicion}: {edad} años\")\n",
    "\n",
    "print(\"\\n3. ¿Hay jugadores que son buenos tanto marcando como asistiendo?\")\n",
    "buenos_ambos = datos_jugadores[\n",
    "    (datos_jugadores[\"goles\"] >= 8) & (datos_jugadores[\"asistencias\"] >= 8)\n",
    "]\n",
    "if len(buenos_ambos) > 0:\n",
    "    print(f\"   Sí, encontramos {len(buenos_ambos)} jugadores:\")\n",
    "    for idx, jugador in buenos_ambos.iterrows():\n",
    "        print(\n",
    "            f\"   - {jugador['nombre']}: {jugador['goles']} goles, {jugador['asistencias']} asistencias\"\n",
    "        )\n",
    "else:\n",
    "    print(\"   No hay jugadores que destaquen mucho en ambas categorías\")"
   ]
  },
  {
   "cell_type": "markdown",
   "id": "a1876f9b",
   "metadata": {},
   "source": "### Lo que Aprendimos Hoy\n\n¡Felicitaciones! Hoy aprendiste a:\n- Cargar datos de jugadores de fútbol con pandas\n- Explorar información básica usando `.head()`, `.value_counts()` y estadísticas simples  \n- Crear gráficos con seaborn para visualizar patrones\n- Comparar el rendimiento por posición\n- Identificar a los mejores jugadores\n\n### Próxima Semana\nEn la próxima clase aprenderemos a crear análisis más avanzados y combinar diferentes tipos de datos deportivos."
  }
 ],
 "metadata": {
  "language_info": {
   "name": "python"
  }
 },
 "nbformat": 4,
 "nbformat_minor": 5
}