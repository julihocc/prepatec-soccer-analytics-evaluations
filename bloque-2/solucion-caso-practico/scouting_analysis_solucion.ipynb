{
 "cells": [
  {
   "cell_type": "markdown",
   "id": "2ab0c104",
   "metadata": {},
   "source": "# Semana 9: Análisis Básico de Jugadores de Fútbol\n\n**Lo que aprenderemos hoy:**\n- Explorar estadísticas básicas de jugadores\n- Crear gráficos simples para comparar rendimiento\n- Identificar patrones en los datos\n\n**Tiempo estimado:** 60 minutos\n\n**Contexto:** Imagina que eres analista de un equipo de fútbol y necesitas evaluar jugadores usando estadísticas básicas como goles, asistencias y partidos jugados.\n\n---\n\n## Objetivos de Aprendizaje:\n- Cargar y explorar datos de jugadores\n- Calcular estadísticas básicas por posición\n- Crear visualizaciones simples con pandas y seaborn\n- Identificar los mejores jugadores por posición"
  },
  {
   "cell_type": "code",
   "execution_count": null,
   "id": "07dffd79",
   "metadata": {},
   "outputs": [],
   "source": "# Importaciones básicas para análisis de datos\nimport pandas as pd\nimport numpy as np\nimport matplotlib.pyplot as plt\nimport seaborn as sns\n\n# Configuración de seaborn (obligatorio para este curso)\nsns.set_theme(style=\"whitegrid\", palette=\"viridis\")\n\nprint(\"¡Herramientas listas para analizar jugadores de fútbol!\")"
  },
  {
   "cell_type": "code",
   "execution_count": null,
   "id": "364605cd",
   "metadata": {},
   "outputs": [],
   "source": "# Cargar los datos de jugadores\nprint(\"Cargando datos de jugadores de fútbol...\")\n\n# Dataset simplificado de jugadores\ndatos_jugadores = pd.read_csv('../datasets/jugadores_liga_juvenil_simple.csv')\nprint(f\"Datos cargados: {len(datos_jugadores)} jugadores\")\n\n# Veamos las primeras 5 filas\nprint(\"\\n¡Echemos un vistazo a nuestros datos!\")\nprint(datos_jugadores.head())"
  },
  {
   "cell_type": "markdown",
   "id": "89801a22",
   "metadata": {},
   "source": "## 1. Exploración Básica de los Datos\n\n¡Vamos a conocer mejor nuestros datos! Es importante entender qué información tenemos antes de hacer cualquier análisis."
  },
  {
   "cell_type": "code",
   "execution_count": null,
   "id": "3203d555",
   "metadata": {},
   "outputs": [],
   "source": "# Información básica sobre nuestros datos\nprint(\"=== INFORMACIÓN BÁSICA ===\")\nprint(f\"Cantidad de jugadores: {len(datos_jugadores)}\")\nprint(f\"Cantidad de columnas: {len(datos_jugadores.columns)}\")\n\n# Veamos qué columnas tenemos\nprint(\"\\n¿Qué información tenemos de cada jugador?\")\nfor columna in datos_jugadores.columns:\n    print(f\"  • {columna}\")\n\n# Información por posición\nprint(\"\\n¿Cuántos jugadores hay por posición?\")\njugadores_por_posicion = datos_jugadores['posicion'].value_counts()\nprint(jugadores_por_posicion)\n\n# Estadísticas básicas\nprint(\"\\n¿Cuántos goles han marcado en promedio?\")\npromedio_goles = datos_jugadores['goles'].mean()\nprint(f\"Promedio de goles: {promedio_goles:.1f} goles por jugador\")\n\nprint(f\"El que más goles ha marcado: {datos_jugadores['goles'].max()} goles\")\nprint(f\"El que menos goles ha marcado: {datos_jugadores['goles'].min()} goles\")"
  },
  {
   "cell_type": "code",
   "execution_count": null,
   "id": "3d99cebe",
   "metadata": {},
   "outputs": [],
   "source": "# Crear nuestros primeros gráficos\nprint(\"¡Vamos a crear gráficos para entender mejor los datos!\")\n\n# Gráfico 1: ¿Cuántos jugadores hay por posición?\nplt.figure(figsize=(10, 6))\nsns.countplot(data=datos_jugadores, x='posicion', hue='posicion', palette='viridis', legend=False)\nplt.title('¿Cuántos jugadores tenemos por posición?', fontsize=14, fontweight='bold')\nplt.xlabel('Posición en el campo')\nplt.ylabel('Cantidad de jugadores')\nplt.show()\n\nprint(\"¡Este gráfico nos muestra que tenemos más delanteros y mediocampistas!\")"
  },
  {
   "cell_type": "code",
   "execution_count": null,
   "id": "d7eb667c",
   "metadata": {},
   "outputs": [],
   "source": "# Gráfico 2: ¿Quién marca más goles?\nplt.figure(figsize=(10, 6))\nsns.boxplot(data=datos_jugadores, x='posicion', y='goles', hue='posicion', palette='viridis', legend=False)\nplt.title('¿Qué posición marca más goles?', fontsize=14, fontweight='bold')\nplt.xlabel('Posición en el campo')\nplt.ylabel('Cantidad de goles')\nplt.show()\n\nprint(\"¡Como era de esperarse, los delanteros marcan más goles que las otras posiciones!\")"
  },
  {
   "cell_type": "code",
   "execution_count": null,
   "id": "e6eb6147",
   "metadata": {},
   "outputs": [],
   "source": "## 2. Análisis por Posición\n\n¡Vamos a analizar cómo se desempeña cada posición!"
  },
  {
   "cell_type": "markdown",
   "id": "4ac398e1",
   "metadata": {},
   "source": "# Calcular estadísticas básicas por posición\nprint(\"=== ESTADÍSTICAS POR POSICIÓN ===\")\n\n# Promedios por posición\nestadisticas_por_posicion = datos_jugadores.groupby('posicion').agg({\n    'goles': 'mean',\n    'asistencias': 'mean', \n    'partidos_jugados': 'mean'\n}).round(1)\n\nprint(\"Promedios por posición:\")\nprint(estadisticas_por_posicion)\n\n# ¿Quién es el mejor de cada posición?\nprint(\"\\n¿Quién es el mejor jugador de cada posición? (por goles)\")\nfor posicion in datos_jugadores['posicion'].unique():\n    jugadores_posicion = datos_jugadores[datos_jugadores['posicion'] == posicion]\n    mejor_jugador = jugadores_posicion.loc[jugadores_posicion['goles'].idxmax()]\n    print(f\"{posicion}: {mejor_jugador['nombre']} con {mejor_jugador['goles']} goles\")"
  },
  {
   "cell_type": "code",
   "execution_count": null,
   "id": "9854ec62",
   "metadata": {},
   "outputs": [],
   "source": "# Gráfico 3: ¿Hay relación entre goles y asistencias?\nplt.figure(figsize=(10, 6))\nsns.scatterplot(data=datos_jugadores, x='goles', y='asistencias', hue='posicion', s=100)\nplt.title('¿Los jugadores que marcan goles también dan asistencias?', fontsize=12, fontweight='bold')\nplt.xlabel('Cantidad de goles')\nplt.ylabel('Cantidad de asistencias')\nplt.show()\n\nprint(\"¡Interesante! Algunos jugadores son buenos en ambas cosas, otros se especializan en una sola.\")"
  },
  {
   "cell_type": "markdown",
   "id": "ba6a4cec",
   "metadata": {},
   "source": "## 3. Los Mejores Jugadores\n\n¡Vamos a encontrar a los jugadores más destacados!"
  },
  {
   "cell_type": "code",
   "execution_count": null,
   "id": "b74f7ffa",
   "metadata": {},
   "outputs": [],
   "source": "# Top 5 goleadores\nprint(\"=== TOP 5 GOLEADORES ===\")\ntop_goleadores = datos_jugadores.nlargest(5, 'goles')\nfor i, (idx, jugador) in enumerate(top_goleadores.iterrows(), 1):\n    print(f\"{i}. {jugador['nombre']} ({jugador['posicion']}) - {jugador['goles']} goles\")\n\nprint(\"\\n=== TOP 5 ASISTENTES ===\")\ntop_asistentes = datos_jugadores.nlargest(5, 'asistencias')\nfor i, (idx, jugador) in enumerate(top_asistentes.iterrows(), 1):\n    print(f\"{i}. {jugador['nombre']} ({jugador['posicion']}) - {jugador['asistencias']} asistencias\")"
  },
  {
   "cell_type": "markdown",
   "id": "324d49e2",
   "metadata": {},
   "source": "# Gráfico final: Los mejores goleadores\nplt.figure(figsize=(12, 6))\nsns.barplot(data=top_goleadores, x='goles', y='nombre', hue='nombre', palette='viridis', legend=False)\nplt.title('Los 5 jugadores que más goles han marcado', fontsize=14, fontweight='bold')\nplt.xlabel('Cantidad de goles')\nplt.ylabel('Jugador')\nplt.show()\n\nprint(\"¡Estos son los jugadores que más goles han marcado en la temporada!\")"
  },
  {
   "cell_type": "code",
   "execution_count": null,
   "id": "01677881",
   "metadata": {},
   "outputs": [],
   "source": "# Análisis final: ¿Qué aprendimos?\n\nprint(\"=== RESUMEN DE NUESTROS HALLAZGOS ===\")\n\nprint(\"\\n1. ¿Qué posición marca más goles en promedio?\")\ngoles_por_posicion = datos_jugadores.groupby('posicion')['goles'].mean().sort_values(ascending=False)\nmejor_posicion = goles_por_posicion.index[0]\npromedio_mejor = goles_por_posicion.iloc[0]\nprint(f\"   Respuesta: {mejor_posicion} con {promedio_mejor:.1f} goles en promedio\")\n\nprint(\"\\n2. ¿Cuál es la edad promedio por posición?\")\nedad_por_posicion = datos_jugadores.groupby('posicion')['edad'].mean().round(1)\nfor posicion, edad in edad_por_posicion.items():\n    print(f\"   {posicion}: {edad} años\")\n\nprint(\"\\n3. ¿Hay jugadores que son buenos tanto marcando como asistiendo?\")\nbuenos_ambos = datos_jugadores[(datos_jugadores['goles'] >= 8) & (datos_jugadores['asistencias'] >= 8)]\nif len(buenos_ambos) > 0:\n    print(f\"   Sí, encontramos {len(buenos_ambos)} jugadores:\")\n    for idx, jugador in buenos_ambos.iterrows():\n        print(f\"   - {jugador['nombre']}: {jugador['goles']} goles, {jugador['asistencias']} asistencias\")\nelse:\n    print(\"   No hay jugadores que destaquen mucho en ambas categorías\")"
  },
  {
   "cell_type": "markdown",
   "id": "a1876f9b",
   "metadata": {},
   "source": "### Lo que Aprendimos Hoy\n\n¡Felicitaciones! Hoy aprendiste a:\n- Cargar datos de jugadores de fútbol con pandas\n- Explorar información básica usando `.head()`, `.value_counts()` y estadísticas simples  \n- Crear gráficos con seaborn para visualizar patrones\n- Comparar el rendimiento por posición\n- Identificar a los mejores jugadores\n\n### Próxima Semana\nEn la próxima clase aprenderemos a crear análisis más avanzados y combinar diferentes tipos de datos deportivos."
  }
 ],
 "metadata": {
  "language_info": {
   "name": "python"
  }
 },
 "nbformat": 4,
 "nbformat_minor": 5
}