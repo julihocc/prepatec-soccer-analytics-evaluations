{
 "cells": [
  {
   "cell_type": "markdown",
   "metadata": {},
   "source": [
    "# Caso Práctico Bloque 1 - SOLUCIÓN\n",
    "## Análisis Básico de un Equipo de Fútbol\n",
    "\n",
    "**Equipo:** Analistas Junior  \n",
    "**Integrantes:** [Nombres del equipo]  \n",
    "**Fecha:** [Fecha de entrega]\n",
    "\n",
    "---\n",
    "\n",
    "## Lo que vamos a hacer:\n",
    "- Usar Python básico para analizar un equipo de fútbol\n",
    "- Crear funciones simples para cálculos\n",
    "- Trabajar con listas y diccionarios\n",
    "- Encontrar patrones en los datos"
   ]
  },
  {
   "cell_type": "markdown",
   "metadata": {},
   "source": [
    "---\n",
    "# PARTE 1: PYTHON BÁSICO (50 puntos)\n",
    "\n",
    "## 1.1 Definir los Datos"
   ]
  },
  {
   "cell_type": "code",
   "execution_count": null,
   "metadata": {},
   "outputs": [],
   "source": [
    "# DATOS DE PARTIDOS (listas simples)\n",
    "resultados_partidos = [\n",
    "    \"Victoria\",\n",
    "    \"Derrota\",\n",
    "    \"Victoria\",\n",
    "    \"Empate\",\n",
    "    \"Victoria\",\n",
    "    \"Derrota\",\n",
    "    \"Victoria\",\n",
    "    \"Empate\",\n",
    "    \"Victoria\",\n",
    "    \"Victoria\",\n",
    "]\n",
    "\n",
    "goles_favor = [2, 0, 3, 1, 2, 0, 1, 2, 3, 2]\n",
    "goles_contra = [1, 3, 1, 1, 0, 2, 0, 2, 1, 1]\n",
    "\n",
    "# DATOS DE JUGADORES (diccionario simple)\n",
    "jugadores = {\n",
    "    \"Carlos\": {\"posicion\": \"Delantero\", \"goles\": 8, \"edad\": 23},\n",
    "    \"María\": {\"posicion\": \"Mediocampo\", \"goles\": 3, \"edad\": 21},\n",
    "    \"Luis\": {\"posicion\": \"Defensa\", \"goles\": 1, \"edad\": 25},\n",
    "    \"Ana\": {\"posicion\": \"Delantero\", \"goles\": 6, \"edad\": 22},\n",
    "    \"Pedro\": {\"posicion\": \"Mediocampo\", \"goles\": 2, \"edad\": 24},\n",
    "    \"Sofia\": {\"posicion\": \"Portero\", \"goles\": 0, \"edad\": 20},\n",
    "    \"Diego\": {\"posicion\": \"Defensa\", \"goles\": 0, \"edad\": 26},\n",
    "    \"Carmen\": {\"posicion\": \"Delantero\", \"goles\": 5, \"edad\": 19},\n",
    "}\n",
    "\n",
    "print(\"¡Datos cargados correctamente!\")\n",
    "print(f\"Tenemos {len(resultados_partidos)} partidos y {len(jugadores)} jugadores\")"
   ]
  },
  {
   "cell_type": "markdown",
   "metadata": {},
   "source": [
    "## 1.2 Contar Resultados con Bucles (15 puntos)"
   ]
  },
  {
   "cell_type": "code",
   "execution_count": null,
   "metadata": {},
   "outputs": [],
   "source": [
    "# Contar victorias, empates y derrotas usando bucle for\n",
    "victorias = 0\n",
    "empates = 0\n",
    "derrotas = 0\n",
    "\n",
    "# Usar bucle for e if para contar cada tipo de resultado\n",
    "for resultado in resultados_partidos:\n",
    "    if resultado == \"Victoria\":\n",
    "        victorias += 1\n",
    "    elif resultado == \"Empate\":\n",
    "        empates += 1\n",
    "    else:\n",
    "        derrotas += 1\n",
    "\n",
    "print(\"=== RESULTADOS DE LA TEMPORADA ===\")\n",
    "print(f\"Victorias: {victorias}\")\n",
    "print(f\"Empates: {empates}\")\n",
    "print(f\"Derrotas: {derrotas}\")\n",
    "print(f\"Total de partidos: {len(resultados_partidos)}\")"
   ]
  },
  {
   "cell_type": "markdown",
   "metadata": {},
   "source": [
    "## 1.3 Crear Funciones Simples (20 puntos)"
   ]
  },
  {
   "cell_type": "code",
   "execution_count": null,
   "metadata": {},
   "outputs": [],
   "source": [
    "# Función para calcular puntos\n",
    "def calcular_puntos(victorias, empates):\n",
    "    \"\"\"Calcula puntos: Victoria=3, Empate=1\"\"\"\n",
    "    total_puntos = victorias * 3 + empates * 1\n",
    "    return total_puntos\n",
    "\n",
    "\n",
    "# Probar la función\n",
    "puntos_totales = calcular_puntos(victorias, empates)\n",
    "print(f\"Puntos totales obtenidos: {puntos_totales}\")\n",
    "print(f\"Puntos máximos posibles: {len(resultados_partidos) * 3}\")"
   ]
  },
  {
   "cell_type": "code",
   "execution_count": null,
   "metadata": {},
   "outputs": [],
   "source": [
    "# Función para encontrar mejor goleador\n",
    "def mejor_goleador(jugadores):\n",
    "    \"\"\"Encuentra quién marcó más goles\"\"\"\n",
    "    nombre_mejor = \"\"\n",
    "    goles_mejor = 0\n",
    "\n",
    "    # Buscar en todos los jugadores\n",
    "    for nombre, datos in jugadores.items():\n",
    "        if datos[\"goles\"] > goles_mejor:\n",
    "            goles_mejor = datos[\"goles\"]\n",
    "            nombre_mejor = nombre\n",
    "\n",
    "    return nombre_mejor, goles_mejor\n",
    "\n",
    "\n",
    "# Probar la función\n",
    "mejor_nombre, mejor_goles = mejor_goleador(jugadores)\n",
    "print(f\"Mejor goleador: {mejor_nombre} con {mejor_goles} goles\")"
   ]
  },
  {
   "cell_type": "markdown",
   "metadata": {},
   "source": [
    "## 1.4 Trabajar con Listas y Diccionarios (15 puntos)"
   ]
  },
  {
   "cell_type": "code",
   "execution_count": null,
   "metadata": {},
   "outputs": [],
   "source": [
    "# Calcular total de goles a favor usando la lista\n",
    "total_goles_favor = 0\n",
    "for goles in goles_favor:\n",
    "    total_goles_favor += goles\n",
    "\n",
    "print(f\"Total de goles marcados: {total_goles_favor}\")\n",
    "\n",
    "# También podemos usar la función sum() para hacer lo mismo\n",
    "total_con_sum = sum(goles_favor)\n",
    "print(f\"Verificación con sum(): {total_con_sum}\")"
   ]
  },
  {
   "cell_type": "code",
   "execution_count": null,
   "metadata": {},
   "outputs": [],
   "source": [
    "# Encontrar el partido con más goles\n",
    "goles_por_partido = []\n",
    "for i in range(len(goles_favor)):\n",
    "    total_partido = goles_favor[i] + goles_contra[i]\n",
    "    goles_por_partido.append(total_partido)\n",
    "\n",
    "partido_mas_goles = max(goles_por_partido)\n",
    "print(f\"Partido con más goles: {partido_mas_goles} goles\")\n",
    "\n",
    "# Encontrar en qué partido fue\n",
    "for i in range(len(goles_por_partido)):\n",
    "    if goles_por_partido[i] == partido_mas_goles:\n",
    "        print(\n",
    "            f\"Fue el partido #{i+1}: {goles_favor[i]}-{goles_contra[i]} ({resultados_partidos[i]})\"\n",
    "        )\n",
    "        break"
   ]
  },
  {
   "cell_type": "code",
   "execution_count": null,
   "metadata": {},
   "outputs": [],
   "source": [
    "# Usar el diccionario de jugadores para encontrar información básica\n",
    "total_goles_jugadores = 0\n",
    "jugador_mas_joven = None\n",
    "edad_menor = 100  # Empezamos con un número muy alto\n",
    "\n",
    "for nombre, datos in jugadores.items():\n",
    "    # Sumar goles de todos los jugadores\n",
    "    total_goles_jugadores += datos[\"goles\"]\n",
    "\n",
    "    # Encontrar el jugador más joven\n",
    "    if datos[\"edad\"] < edad_menor:\n",
    "        edad_menor = datos[\"edad\"]\n",
    "        jugador_mas_joven = nombre\n",
    "\n",
    "print(f\"Total de goles marcados por todos los jugadores: {total_goles_jugadores}\")\n",
    "print(f\"Jugador más joven: {jugador_mas_joven} ({edad_menor} años)\")"
   ]
  },
  {
   "cell_type": "markdown",
   "metadata": {},
   "source": [
    "---\n",
    "# PARTE 2: ANÁLISIS SIMPLE (30 puntos)\n",
    "\n",
    "## 2.1 Estadísticas Básicas del Equipo (15 puntos)"
   ]
  },
  {
   "cell_type": "code",
   "execution_count": null,
   "metadata": {},
   "outputs": [],
   "source": [
    "# Usar nuestras funciones para calcular puntos totales\n",
    "puntos = calcular_puntos(victorias, empates)\n",
    "print(f\"=== ESTADÍSTICAS DEL EQUIPO ===\")\n",
    "print(f\"Puntos obtenidos: {puntos}\")\n",
    "\n",
    "# Calcular el promedio de goles por partido\n",
    "total_partidos = len(resultados_partidos)\n",
    "promedio_goles = total_goles_favor / total_partidos\n",
    "print(f\"Promedio de goles por partido: {promedio_goles:.1f}\")\n",
    "\n",
    "# Determinar si marcamos más goles de los que recibimos\n",
    "total_goles_contra = sum(goles_contra)\n",
    "diferencia = total_goles_favor - total_goles_contra\n",
    "\n",
    "if diferencia > 0:\n",
    "    print(f\"¡Bien! Marcamos {diferencia} goles más de los que recibimos\")\n",
    "elif diferencia < 0:\n",
    "    print(f\"Recibimos {abs(diferencia)} goles más de los que marcamos\")\n",
    "else:\n",
    "    print(\"Marcamos la misma cantidad de goles que recibimos\")"
   ]
  },
  {
   "cell_type": "markdown",
   "metadata": {},
   "source": [
    "## 2.2 Análisis de Jugadores (15 puntos)"
   ]
  },
  {
   "cell_type": "code",
   "execution_count": null,
   "metadata": {},
   "outputs": [],
   "source": [
    "# Usar nuestra función para encontrar el mejor goleador\n",
    "goleador, goles = mejor_goleador(jugadores)\n",
    "print(f\"=== ANÁLISIS DE JUGADORES ===\")\n",
    "print(f\"Mejor goleador: {goleador} con {goles} goles\")\n",
    "print(f\"Posición: {jugadores[goleador]['posicion']}\")\n",
    "print(f\"Edad: {jugadores[goleador]['edad']} años\")"
   ]
  },
  {
   "cell_type": "code",
   "execution_count": null,
   "metadata": {},
   "outputs": [],
   "source": [
    "# Contar cuántos delanteros hay en el equipo\n",
    "delanteros = 0\n",
    "mediocampos = 0\n",
    "defensas = 0\n",
    "porteros = 0\n",
    "\n",
    "for nombre, datos in jugadores.items():\n",
    "    if datos[\"posicion\"] == \"Delantero\":\n",
    "        delanteros += 1\n",
    "    elif datos[\"posicion\"] == \"Mediocampo\":\n",
    "        mediocampos += 1\n",
    "    elif datos[\"posicion\"] == \"Defensa\":\n",
    "        defensas += 1\n",
    "    elif datos[\"posicion\"] == \"Portero\":\n",
    "        porteros += 1\n",
    "\n",
    "print(f\"\\nJugadores por posición:\")\n",
    "print(f\"Delanteros: {delanteros}\")\n",
    "print(f\"Mediocampos: {mediocampos}\")\n",
    "print(f\"Defensas: {defensas}\")\n",
    "print(f\"Porteros: {porteros}\")"
   ]
  },
  {
   "cell_type": "code",
   "execution_count": null,
   "metadata": {},
   "outputs": [],
   "source": [
    "# Calcular el total de goles marcados por todos los jugadores\n",
    "total_goles_equipo = 0\n",
    "goles_por_delanteros = 0\n",
    "\n",
    "print(f\"\\nGoles por jugador:\")\n",
    "for nombre, datos in jugadores.items():\n",
    "    goles_jugador = datos[\"goles\"]\n",
    "    total_goles_equipo += goles_jugador\n",
    "    print(f\"{nombre} ({datos['posicion']}): {goles_jugador} goles\")\n",
    "\n",
    "    # Contar goles de delanteros\n",
    "    if datos[\"posicion\"] == \"Delantero\":\n",
    "        goles_por_delanteros += goles_jugador\n",
    "\n",
    "print(f\"\\nTotal de goles del equipo: {total_goles_equipo}\")\n",
    "print(f\"Goles marcados por delanteros: {goles_por_delanteros}\")\n",
    "print(\n",
    "    f\"Porcentaje de goles por delanteros: {(goles_por_delanteros/total_goles_equipo*100):.1f}%\"\n",
    ")"
   ]
  },
  {
   "cell_type": "markdown",
   "metadata": {},
   "source": [
    "---\n",
    "# PARTE 3: RESULTADOS Y CONCLUSIONES\n",
    "\n",
    "## Resumen de Nuestros Hallazgos"
   ]
  },
  {
   "cell_type": "code",
   "execution_count": null,
   "metadata": {},
   "outputs": [],
   "source": [
    "print(\"=== RESUMEN FINAL ===\")\n",
    "print(\n",
    "    f\"📊 Récord del equipo: {victorias} victorias, {empates} empates, {derrotas} derrotas\"\n",
    ")\n",
    "print(f\"⚽ Goles: {total_goles_favor} a favor, {total_goles_contra} en contra\")\n",
    "print(f\"🏆 Puntos obtenidos: {puntos} de {len(resultados_partidos) * 3} posibles\")\n",
    "print(f\"🥇 Mejor goleador: {goleador} ({goles} goles)\")\n",
    "print(\n",
    "    f\"👥 Jugadores por posición: {delanteros} delanteros, {mediocampos} mediocampos, {defensas} defensas, {porteros} porteros\"\n",
    ")\n",
    "\n",
    "# Evaluación final\n",
    "porcentaje_efectividad = (puntos / (len(resultados_partidos) * 3)) * 100\n",
    "print(f\"\\n📈 Efectividad del equipo: {porcentaje_efectividad:.1f}%\")\n",
    "\n",
    "if porcentaje_efectividad >= 70:\n",
    "    evaluacion = \"¡Excelente temporada!\"\n",
    "elif porcentaje_efectividad >= 50:\n",
    "    evaluacion = \"Buena temporada con cosas por mejorar\"\n",
    "else:\n",
    "    evaluacion = \"Temporada difícil, necesitamos mejorar\"\n",
    "\n",
    "print(f\"✨ Evaluación: {evaluacion}\")"
   ]
  },
  {
   "cell_type": "markdown",
   "metadata": {},
   "source": [
    "## Lo que Aprendimos Hoy\n",
    "\n",
    "¡Felicitaciones! En este caso práctico aplicamos exitosamente:\n",
    "\n",
    "### ✅ **Python Básico:**\n",
    "- Variables para almacenar datos\n",
    "- Bucles `for` para procesar listas\n",
    "- Condicionales `if/elif/else` para tomar decisiones\n",
    "- Operaciones matemáticas básicas\n",
    "\n",
    "### ✅ **Funciones:**\n",
    "- `calcular_puntos()`: Automatizó el cálculo de puntos\n",
    "- `mejor_goleador()`: Encontró al mejor jugador\n",
    "\n",
    "### ✅ **Estructuras de Datos:**\n",
    "- Listas para almacenar resultados y goles\n",
    "- Diccionarios para organizar información de jugadores\n",
    "- Acceso a datos usando llaves y índices\n",
    "\n",
    "### ✅ **Análisis de Datos:**\n",
    "- Calculamos estadísticas importantes del equipo\n",
    "- Comparamos jugadores y posiciones\n",
    "- Sacamos conclusiones basadas en los datos\n",
    "\n",
    "### 🚀 **Próximos Pasos:**\n",
    "En el Bloque 2 aprenderemos a usar pandas para manejar datos más grandes y crear gráficos con seaborn.\n",
    "\n",
    "¡Excelente trabajo aplicando Python básico al análisis deportivo!"
   ]
  }
 ],
 "metadata": {
  "kernelspec": {
   "display_name": "Python 3",
   "language": "python",
   "name": "python3"
  },
  "language_info": {
   "codemirror_mode": {
    "name": "ipython",
    "version": 3
   },
   "file_extension": ".py",
   "mimetype": "text/x-python",
   "name": "python",
   "nbconvert_exporter": "python",
   "pygments_lexer": "ipython3",
   "version": "3.8.5"
  }
 },
 "nbformat": 4,
 "nbformat_minor": 4
}